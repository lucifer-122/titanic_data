{
 "cells": [
  {
   "cell_type": "code",
   "execution_count": 10,
   "id": "db7b2a61",
   "metadata": {},
   "outputs": [
    {
     "name": "stdout",
     "output_type": "stream",
     "text": [
      "Series([], Name: Name, dtype: object)\n"
     ]
    }
   ],
   "source": [
    "import pandas as pd\n",
    "import numpy as np\n",
    "\n",
    "# Read the CSV file\n",
    "data = pd.read_csv('titanic_data.csv')\n",
    "\n",
    "# Filter and print the names of female passengers who survived\n",
    "female_survivors = data[(data['Survived'] == 1) & (data['Sex'] == 'female')]\n",
    "print(female_survivors['Name'])"
   ]
  },
  {
   "cell_type": "code",
   "execution_count": 12,
   "id": "10e01808",
   "metadata": {},
   "outputs": [
    {
     "data": {
      "text/html": [
       "<div>\n",
       "<style scoped>\n",
       "    .dataframe tbody tr th:only-of-type {\n",
       "        vertical-align: middle;\n",
       "    }\n",
       "\n",
       "    .dataframe tbody tr th {\n",
       "        vertical-align: top;\n",
       "    }\n",
       "\n",
       "    .dataframe thead th {\n",
       "        text-align: right;\n",
       "    }\n",
       "</style>\n",
       "<table border=\"1\" class=\"dataframe\">\n",
       "  <thead>\n",
       "    <tr style=\"text-align: right;\">\n",
       "      <th></th>\n",
       "      <th>PassengerId</th>\n",
       "      <th>Survived</th>\n",
       "      <th>Pclass</th>\n",
       "      <th>Surname</th>\n",
       "      <th>Name</th>\n",
       "      <th>Sex</th>\n",
       "      <th>Age</th>\n",
       "      <th>SibSp</th>\n",
       "      <th>Parch</th>\n",
       "      <th>Ticket</th>\n",
       "      <th>Fare</th>\n",
       "      <th>Cabin</th>\n",
       "      <th>Embarked</th>\n",
       "    </tr>\n",
       "  </thead>\n",
       "  <tbody>\n",
       "    <tr>\n",
       "      <th>0</th>\n",
       "      <td>False</td>\n",
       "      <td>False</td>\n",
       "      <td>False</td>\n",
       "      <td>False</td>\n",
       "      <td>False</td>\n",
       "      <td>False</td>\n",
       "      <td>False</td>\n",
       "      <td>False</td>\n",
       "      <td>False</td>\n",
       "      <td>False</td>\n",
       "      <td>True</td>\n",
       "      <td>False</td>\n",
       "      <td>True</td>\n",
       "    </tr>\n",
       "    <tr>\n",
       "      <th>1</th>\n",
       "      <td>False</td>\n",
       "      <td>False</td>\n",
       "      <td>False</td>\n",
       "      <td>False</td>\n",
       "      <td>False</td>\n",
       "      <td>False</td>\n",
       "      <td>False</td>\n",
       "      <td>False</td>\n",
       "      <td>False</td>\n",
       "      <td>False</td>\n",
       "      <td>False</td>\n",
       "      <td>False</td>\n",
       "      <td>True</td>\n",
       "    </tr>\n",
       "    <tr>\n",
       "      <th>2</th>\n",
       "      <td>False</td>\n",
       "      <td>False</td>\n",
       "      <td>False</td>\n",
       "      <td>False</td>\n",
       "      <td>False</td>\n",
       "      <td>False</td>\n",
       "      <td>False</td>\n",
       "      <td>False</td>\n",
       "      <td>False</td>\n",
       "      <td>False</td>\n",
       "      <td>True</td>\n",
       "      <td>False</td>\n",
       "      <td>True</td>\n",
       "    </tr>\n",
       "    <tr>\n",
       "      <th>3</th>\n",
       "      <td>False</td>\n",
       "      <td>False</td>\n",
       "      <td>False</td>\n",
       "      <td>False</td>\n",
       "      <td>False</td>\n",
       "      <td>False</td>\n",
       "      <td>False</td>\n",
       "      <td>False</td>\n",
       "      <td>False</td>\n",
       "      <td>False</td>\n",
       "      <td>False</td>\n",
       "      <td>False</td>\n",
       "      <td>True</td>\n",
       "    </tr>\n",
       "    <tr>\n",
       "      <th>4</th>\n",
       "      <td>False</td>\n",
       "      <td>False</td>\n",
       "      <td>False</td>\n",
       "      <td>False</td>\n",
       "      <td>False</td>\n",
       "      <td>False</td>\n",
       "      <td>False</td>\n",
       "      <td>False</td>\n",
       "      <td>False</td>\n",
       "      <td>False</td>\n",
       "      <td>True</td>\n",
       "      <td>False</td>\n",
       "      <td>True</td>\n",
       "    </tr>\n",
       "    <tr>\n",
       "      <th>...</th>\n",
       "      <td>...</td>\n",
       "      <td>...</td>\n",
       "      <td>...</td>\n",
       "      <td>...</td>\n",
       "      <td>...</td>\n",
       "      <td>...</td>\n",
       "      <td>...</td>\n",
       "      <td>...</td>\n",
       "      <td>...</td>\n",
       "      <td>...</td>\n",
       "      <td>...</td>\n",
       "      <td>...</td>\n",
       "      <td>...</td>\n",
       "    </tr>\n",
       "    <tr>\n",
       "      <th>886</th>\n",
       "      <td>False</td>\n",
       "      <td>False</td>\n",
       "      <td>False</td>\n",
       "      <td>False</td>\n",
       "      <td>False</td>\n",
       "      <td>False</td>\n",
       "      <td>False</td>\n",
       "      <td>False</td>\n",
       "      <td>False</td>\n",
       "      <td>False</td>\n",
       "      <td>True</td>\n",
       "      <td>False</td>\n",
       "      <td>True</td>\n",
       "    </tr>\n",
       "    <tr>\n",
       "      <th>887</th>\n",
       "      <td>False</td>\n",
       "      <td>False</td>\n",
       "      <td>False</td>\n",
       "      <td>False</td>\n",
       "      <td>False</td>\n",
       "      <td>False</td>\n",
       "      <td>False</td>\n",
       "      <td>False</td>\n",
       "      <td>False</td>\n",
       "      <td>False</td>\n",
       "      <td>False</td>\n",
       "      <td>False</td>\n",
       "      <td>True</td>\n",
       "    </tr>\n",
       "    <tr>\n",
       "      <th>888</th>\n",
       "      <td>False</td>\n",
       "      <td>False</td>\n",
       "      <td>False</td>\n",
       "      <td>False</td>\n",
       "      <td>False</td>\n",
       "      <td>True</td>\n",
       "      <td>False</td>\n",
       "      <td>False</td>\n",
       "      <td>False</td>\n",
       "      <td>False</td>\n",
       "      <td>True</td>\n",
       "      <td>False</td>\n",
       "      <td>True</td>\n",
       "    </tr>\n",
       "    <tr>\n",
       "      <th>889</th>\n",
       "      <td>False</td>\n",
       "      <td>False</td>\n",
       "      <td>False</td>\n",
       "      <td>False</td>\n",
       "      <td>False</td>\n",
       "      <td>False</td>\n",
       "      <td>False</td>\n",
       "      <td>False</td>\n",
       "      <td>False</td>\n",
       "      <td>False</td>\n",
       "      <td>False</td>\n",
       "      <td>False</td>\n",
       "      <td>True</td>\n",
       "    </tr>\n",
       "    <tr>\n",
       "      <th>890</th>\n",
       "      <td>False</td>\n",
       "      <td>False</td>\n",
       "      <td>False</td>\n",
       "      <td>False</td>\n",
       "      <td>False</td>\n",
       "      <td>False</td>\n",
       "      <td>False</td>\n",
       "      <td>False</td>\n",
       "      <td>False</td>\n",
       "      <td>False</td>\n",
       "      <td>True</td>\n",
       "      <td>False</td>\n",
       "      <td>True</td>\n",
       "    </tr>\n",
       "  </tbody>\n",
       "</table>\n",
       "<p>891 rows × 13 columns</p>\n",
       "</div>"
      ],
      "text/plain": [
       "     PassengerId  Survived  Pclass  Surname   Name    Sex    Age  SibSp  \\\n",
       "0          False     False   False    False  False  False  False  False   \n",
       "1          False     False   False    False  False  False  False  False   \n",
       "2          False     False   False    False  False  False  False  False   \n",
       "3          False     False   False    False  False  False  False  False   \n",
       "4          False     False   False    False  False  False  False  False   \n",
       "..           ...       ...     ...      ...    ...    ...    ...    ...   \n",
       "886        False     False   False    False  False  False  False  False   \n",
       "887        False     False   False    False  False  False  False  False   \n",
       "888        False     False   False    False  False   True  False  False   \n",
       "889        False     False   False    False  False  False  False  False   \n",
       "890        False     False   False    False  False  False  False  False   \n",
       "\n",
       "     Parch  Ticket   Fare  Cabin  Embarked  \n",
       "0    False   False   True  False      True  \n",
       "1    False   False  False  False      True  \n",
       "2    False   False   True  False      True  \n",
       "3    False   False  False  False      True  \n",
       "4    False   False   True  False      True  \n",
       "..     ...     ...    ...    ...       ...  \n",
       "886  False   False   True  False      True  \n",
       "887  False   False  False  False      True  \n",
       "888  False   False   True  False      True  \n",
       "889  False   False  False  False      True  \n",
       "890  False   False   True  False      True  \n",
       "\n",
       "[891 rows x 13 columns]"
      ]
     },
     "execution_count": 12,
     "metadata": {},
     "output_type": "execute_result"
    }
   ],
   "source": [
    "data.isnull()"
   ]
  },
  {
   "cell_type": "code",
   "execution_count": 13,
   "id": "a0e4f421",
   "metadata": {},
   "outputs": [
    {
     "name": "stdout",
     "output_type": "stream",
     "text": [
      "<class 'pandas.core.frame.DataFrame'>\n",
      "RangeIndex: 891 entries, 0 to 890\n",
      "Data columns (total 13 columns):\n",
      " #   Column       Non-Null Count  Dtype  \n",
      "---  ------       --------------  -----  \n",
      " 0   PassengerId  891 non-null    int64  \n",
      " 1   Survived     891 non-null    int64  \n",
      " 2   Pclass       891 non-null    int64  \n",
      " 3   Surname      891 non-null    object \n",
      " 4   Name         891 non-null    object \n",
      " 5   Sex          714 non-null    float64\n",
      " 6   Age          891 non-null    int64  \n",
      " 7   SibSp        891 non-null    int64  \n",
      " 8   Parch        891 non-null    object \n",
      " 9   Ticket       891 non-null    float64\n",
      " 10  Fare         204 non-null    object \n",
      " 11  Cabin        889 non-null    object \n",
      " 12  Embarked     0 non-null      float64\n",
      "dtypes: float64(3), int64(5), object(5)\n",
      "memory usage: 90.6+ KB\n"
     ]
    }
   ],
   "source": [
    "data.info()"
   ]
  },
  {
   "cell_type": "code",
   "execution_count": 14,
   "id": "a2045aaa",
   "metadata": {},
   "outputs": [
    {
     "data": {
      "text/plain": [
       "(891, 13)"
      ]
     },
     "execution_count": 14,
     "metadata": {},
     "output_type": "execute_result"
    }
   ],
   "source": [
    "data.shape"
   ]
  },
  {
   "cell_type": "code",
   "execution_count": 15,
   "id": "debbb4d4",
   "metadata": {},
   "outputs": [
    {
     "data": {
      "text/html": [
       "<div>\n",
       "<style scoped>\n",
       "    .dataframe tbody tr th:only-of-type {\n",
       "        vertical-align: middle;\n",
       "    }\n",
       "\n",
       "    .dataframe tbody tr th {\n",
       "        vertical-align: top;\n",
       "    }\n",
       "\n",
       "    .dataframe thead th {\n",
       "        text-align: right;\n",
       "    }\n",
       "</style>\n",
       "<table border=\"1\" class=\"dataframe\">\n",
       "  <thead>\n",
       "    <tr style=\"text-align: right;\">\n",
       "      <th></th>\n",
       "      <th>PassengerId</th>\n",
       "      <th>Survived</th>\n",
       "      <th>Pclass</th>\n",
       "      <th>Sex</th>\n",
       "      <th>Age</th>\n",
       "      <th>SibSp</th>\n",
       "      <th>Ticket</th>\n",
       "      <th>Embarked</th>\n",
       "    </tr>\n",
       "  </thead>\n",
       "  <tbody>\n",
       "    <tr>\n",
       "      <th>count</th>\n",
       "      <td>891.000000</td>\n",
       "      <td>891.000000</td>\n",
       "      <td>891.000000</td>\n",
       "      <td>714.000000</td>\n",
       "      <td>891.000000</td>\n",
       "      <td>891.000000</td>\n",
       "      <td>891.000000</td>\n",
       "      <td>0.0</td>\n",
       "    </tr>\n",
       "    <tr>\n",
       "      <th>mean</th>\n",
       "      <td>446.000000</td>\n",
       "      <td>0.383838</td>\n",
       "      <td>2.308642</td>\n",
       "      <td>29.699118</td>\n",
       "      <td>0.523008</td>\n",
       "      <td>0.381594</td>\n",
       "      <td>32.204208</td>\n",
       "      <td>NaN</td>\n",
       "    </tr>\n",
       "    <tr>\n",
       "      <th>std</th>\n",
       "      <td>257.353842</td>\n",
       "      <td>0.486592</td>\n",
       "      <td>0.836071</td>\n",
       "      <td>14.526497</td>\n",
       "      <td>1.102743</td>\n",
       "      <td>0.806057</td>\n",
       "      <td>49.693429</td>\n",
       "      <td>NaN</td>\n",
       "    </tr>\n",
       "    <tr>\n",
       "      <th>min</th>\n",
       "      <td>1.000000</td>\n",
       "      <td>0.000000</td>\n",
       "      <td>1.000000</td>\n",
       "      <td>0.420000</td>\n",
       "      <td>0.000000</td>\n",
       "      <td>0.000000</td>\n",
       "      <td>0.000000</td>\n",
       "      <td>NaN</td>\n",
       "    </tr>\n",
       "    <tr>\n",
       "      <th>25%</th>\n",
       "      <td>223.500000</td>\n",
       "      <td>0.000000</td>\n",
       "      <td>2.000000</td>\n",
       "      <td>20.125000</td>\n",
       "      <td>0.000000</td>\n",
       "      <td>0.000000</td>\n",
       "      <td>7.910400</td>\n",
       "      <td>NaN</td>\n",
       "    </tr>\n",
       "    <tr>\n",
       "      <th>50%</th>\n",
       "      <td>446.000000</td>\n",
       "      <td>0.000000</td>\n",
       "      <td>3.000000</td>\n",
       "      <td>28.000000</td>\n",
       "      <td>0.000000</td>\n",
       "      <td>0.000000</td>\n",
       "      <td>14.454200</td>\n",
       "      <td>NaN</td>\n",
       "    </tr>\n",
       "    <tr>\n",
       "      <th>75%</th>\n",
       "      <td>668.500000</td>\n",
       "      <td>1.000000</td>\n",
       "      <td>3.000000</td>\n",
       "      <td>38.000000</td>\n",
       "      <td>1.000000</td>\n",
       "      <td>0.000000</td>\n",
       "      <td>31.000000</td>\n",
       "      <td>NaN</td>\n",
       "    </tr>\n",
       "    <tr>\n",
       "      <th>max</th>\n",
       "      <td>891.000000</td>\n",
       "      <td>1.000000</td>\n",
       "      <td>3.000000</td>\n",
       "      <td>80.000000</td>\n",
       "      <td>8.000000</td>\n",
       "      <td>6.000000</td>\n",
       "      <td>512.329200</td>\n",
       "      <td>NaN</td>\n",
       "    </tr>\n",
       "  </tbody>\n",
       "</table>\n",
       "</div>"
      ],
      "text/plain": [
       "       PassengerId    Survived      Pclass         Sex         Age  \\\n",
       "count   891.000000  891.000000  891.000000  714.000000  891.000000   \n",
       "mean    446.000000    0.383838    2.308642   29.699118    0.523008   \n",
       "std     257.353842    0.486592    0.836071   14.526497    1.102743   \n",
       "min       1.000000    0.000000    1.000000    0.420000    0.000000   \n",
       "25%     223.500000    0.000000    2.000000   20.125000    0.000000   \n",
       "50%     446.000000    0.000000    3.000000   28.000000    0.000000   \n",
       "75%     668.500000    1.000000    3.000000   38.000000    1.000000   \n",
       "max     891.000000    1.000000    3.000000   80.000000    8.000000   \n",
       "\n",
       "            SibSp      Ticket  Embarked  \n",
       "count  891.000000  891.000000       0.0  \n",
       "mean     0.381594   32.204208       NaN  \n",
       "std      0.806057   49.693429       NaN  \n",
       "min      0.000000    0.000000       NaN  \n",
       "25%      0.000000    7.910400       NaN  \n",
       "50%      0.000000   14.454200       NaN  \n",
       "75%      0.000000   31.000000       NaN  \n",
       "max      6.000000  512.329200       NaN  "
      ]
     },
     "execution_count": 15,
     "metadata": {},
     "output_type": "execute_result"
    }
   ],
   "source": [
    "data.describe()"
   ]
  },
  {
   "cell_type": "code",
   "execution_count": 16,
   "id": "b6be2d86",
   "metadata": {},
   "outputs": [
    {
     "name": "stdout",
     "output_type": "stream",
     "text": [
      "1      female\n",
      "479    female\n",
      "483    female\n",
      "486    female\n",
      "496    female\n",
      "        ...  \n",
      "204      male\n",
      "587      male\n",
      "599      male\n",
      "692      male\n",
      "889      male\n",
      "Name: Name, Length: 342, dtype: object\n"
     ]
    }
   ],
   "source": [
    "# Filter and print the names of child passengers who survived\n",
    "child_survivors = data[(data['Survived'] == 1) & (data['Age'] < 18)]\n",
    "sorted_child_survivors = child_survivors.sort_values(by='Name')\n",
    "print(sorted_child_survivors['Name'])"
   ]
  },
  {
   "cell_type": "code",
   "execution_count": 17,
   "id": "d3fad445",
   "metadata": {},
   "outputs": [
    {
     "name": "stdout",
     "output_type": "stream",
     "text": [
      "0\n"
     ]
    }
   ],
   "source": [
    "# Count the number of passengers who embarked from Southampton\n",
    "southampton_passengers = data[data['Embarked'] == 'S']\n",
    "southampton_passenger_count = len(southampton_passengers)\n",
    "print(southampton_passenger_count)"
   ]
  },
  {
   "cell_type": "code",
   "execution_count": 18,
   "id": "e19d2d83",
   "metadata": {},
   "outputs": [
    {
     "name": "stdout",
     "output_type": "stream",
     "text": [
      "Empty DataFrame\n",
      "Columns: [Name, Age]\n",
      "Index: []\n"
     ]
    }
   ],
   "source": [
    "# Filter and print the name and age of passengers who embarked from Cherbourg\n",
    "cherbourg_passengers = data[data['Embarked'] == 'C']\n",
    "cherbourg_passengers = cherbourg_passengers[['Name', 'Age']].dropna()\n",
    "print(cherbourg_passengers)"
   ]
  },
  {
   "cell_type": "code",
   "execution_count": 25,
   "id": "d1786697",
   "metadata": {},
   "outputs": [
    {
     "name": "stdout",
     "output_type": "stream",
     "text": [
      "719\n"
     ]
    }
   ],
   "source": [
    "# Convert 'Parch' column to numeric values\n",
    "data['Parch'] = pd.to_numeric(data['Parch'], errors='coerce')\n",
    "\n",
    "# Filter the DataFrame and count the number of passengers who had siblings or spouses aboard\n",
    "passengers_with_siblings_or_spouses = data[(data['SibSp'] > 0) | (data['Parch'] > 0)]\n",
    "total_passengers_with_siblings_or_spouses = len(passengers_with_siblings_or_spouses)\n",
    "print(total_passengers_with_siblings_or_spouses)"
   ]
  },
  {
   "cell_type": "code",
   "execution_count": 27,
   "id": "ca6e8b0e",
   "metadata": {},
   "outputs": [
    {
     "name": "stdout",
     "output_type": "stream",
     "text": [
      "0\n"
     ]
    }
   ],
   "source": [
    "# Convert 'Fare' column to numeric values\n",
    "data['Fare'] = pd.to_numeric(data['Fare'], errors='coerce')\n",
    "\n",
    "# Filter the DataFrame and count the number of passengers who paid a fare greater than $100\n",
    "passengers_with_high_fare = data[data['Fare'] > 100]\n",
    "passengers_with_high_fare_count = len(passengers_with_high_fare)\n",
    "print(passengers_with_high_fare_count)"
   ]
  },
  {
   "cell_type": "code",
   "execution_count": 28,
   "id": "477dd6e7",
   "metadata": {},
   "outputs": [
    {
     "name": "stdout",
     "output_type": "stream",
     "text": [
      "Series([], Name: Name, dtype: object)\n"
     ]
    }
   ],
   "source": [
    "# Filter and print the names of passengers with the title \"Dr.\"\n",
    "doctors = data[data['Name'].str.contains('Dr.')]\n",
    "print(doctors['Name'])"
   ]
  },
  {
   "cell_type": "code",
   "execution_count": 29,
   "id": "81756290",
   "metadata": {},
   "outputs": [
    {
     "name": "stdout",
     "output_type": "stream",
     "text": [
      "Series([], Name: Name, dtype: object)\n"
     ]
    }
   ],
   "source": [
    "# Filter and print the names of passengers who were part of the crew\n",
    "crew_members = data[data['Name'].str.contains('Crew')]\n",
    "print(crew_members['Name'])"
   ]
  },
  {
   "cell_type": "code",
   "execution_count": 30,
   "id": "7a73c626",
   "metadata": {},
   "outputs": [
    {
     "name": "stdout",
     "output_type": "stream",
     "text": [
      "     PassengerId  Survived  Pclass  \\\n",
      "1              2         1       1   \n",
      "2              3         1       3   \n",
      "3              4         1       1   \n",
      "8              9         1       3   \n",
      "9             10         1       2   \n",
      "..           ...       ...     ...   \n",
      "875          876         1       3   \n",
      "879          880         1       1   \n",
      "880          881         1       2   \n",
      "887          888         1       1   \n",
      "889          890         1       1   \n",
      "\n",
      "                                               Surname    Name   Sex  Age  \\\n",
      "1    Cumings, Mrs. John Bradley (Florence Briggs Th...  female  38.0    1   \n",
      "2                               Heikkinen, Miss. Laina  female  26.0    0   \n",
      "3         Futrelle, Mrs. Jacques Heath (Lily May Peel)  female  35.0    1   \n",
      "8    Johnson, Mrs. Oscar W (Elisabeth Vilhelmina Berg)  female  27.0    0   \n",
      "9                  Nasser, Mrs. Nicholas (Adele Achem)  female  14.0    1   \n",
      "..                                                 ...     ...   ...  ...   \n",
      "875                   Najib, Miss. Adele Kiamie \"Jane\"  female  15.0    0   \n",
      "879      Potter, Mrs. Thomas Jr (Lily Alexenia Wilson)  female  56.0    0   \n",
      "880       Shelley, Mrs. William (Imanita Parrish Hall)  female  25.0    0   \n",
      "887                       Graham, Miss. Margaret Edith  female  19.0    0   \n",
      "889                              Behr, Mr. Karl Howell    male  26.0    0   \n",
      "\n",
      "     SibSp     Parch   Ticket  Fare Cabin  Embarked  \n",
      "1        0       NaN  71.2833   NaN     C       NaN  \n",
      "2        0       NaN   7.9250   NaN     S       NaN  \n",
      "3        0  113803.0  53.1000   NaN     S       NaN  \n",
      "8        2  347742.0  11.1333   NaN     S       NaN  \n",
      "9        0  237736.0  30.0708   NaN     C       NaN  \n",
      "..     ...       ...      ...   ...   ...       ...  \n",
      "875      0    2667.0   7.2250   NaN     C       NaN  \n",
      "879      1   11767.0  83.1583   NaN     C       NaN  \n",
      "880      1  230433.0  26.0000   NaN     S       NaN  \n",
      "887      0  112053.0  30.0000   NaN     S       NaN  \n",
      "889      0  111369.0  30.0000   NaN     C       NaN  \n",
      "\n",
      "[340 rows x 13 columns]\n"
     ]
    }
   ],
   "source": [
    "# Filter and print information about passengers who boarded lifeboats and survived\n",
    "lifeboat_survivors = data[(data['Survived'] == 1) & (~data['Cabin'].isnull())]\n",
    "print(lifeboat_survivors)"
   ]
  },
  {
   "cell_type": "code",
   "execution_count": 33,
   "id": "ed329990",
   "metadata": {},
   "outputs": [
    {
     "name": "stdout",
     "output_type": "stream",
     "text": [
      "No data available for embarkation ports.\n"
     ]
    }
   ],
   "source": [
    "import matplotlib.pyplot as plt\n",
    "\n",
    "\n",
    "# Check if 'Embarked' column exists in the DataFrame\n",
    "if 'Embarked' in data.columns:\n",
    "    # Count the number of passengers by embarkation port\n",
    "    passengers_by_embarkation = data['Embarked'].value_counts()\n",
    "\n",
    "    if len(passengers_by_embarkation) > 0:\n",
    "        # Plot the count of passengers by embarkation port\n",
    "        passengers_by_embarkation.plot(kind='bar')\n",
    "        plt.xlabel('Embarkation Port')\n",
    "        plt.ylabel('Passenger Count')\n",
    "        plt.show()\n",
    "    else:\n",
    "        print(\"No data available for embarkation ports.\")\n",
    "else:\n",
    "    print(\"The 'Embarked' column does not exist in the DataFrame.\")"
   ]
  },
  {
   "cell_type": "code",
   "execution_count": null,
   "id": "c80a11e3",
   "metadata": {},
   "outputs": [],
   "source": []
  }
 ],
 "metadata": {
  "kernelspec": {
   "display_name": "Python 3 (ipykernel)",
   "language": "python",
   "name": "python3"
  },
  "language_info": {
   "codemirror_mode": {
    "name": "ipython",
    "version": 3
   },
   "file_extension": ".py",
   "mimetype": "text/x-python",
   "name": "python",
   "nbconvert_exporter": "python",
   "pygments_lexer": "ipython3",
   "version": "3.10.6"
  }
 },
 "nbformat": 4,
 "nbformat_minor": 5
}
